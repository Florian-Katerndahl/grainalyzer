{
 "cells": [
  {
   "cell_type": "markdown",
   "id": "628442e2-e9e7-4b4d-9aea-cdc06cc3ecf1",
   "metadata": {
    "tags": []
   },
   "source": [
    "# grainanalyser\n",
    "> workflow to read grain-size distributions from the lab, with treating grain sizes as compositional data and therefore processing them using the Aitchison's log-ratio approach"
   ]
  },
  {
   "cell_type": "markdown",
   "id": "81417ca1-0a1c-4bfb-a8b1-25ae567e18a7",
   "metadata": {},
   "source": [
    "## Prerequisites\n",
    "\n",
    "* only works for one directory at a time\n",
    "* only works for csv files\n",
    "* only works for files in laserscannerformat"
   ]
  },
  {
   "cell_type": "code",
   "execution_count": null,
   "id": "c119e024-3715-476c-9c64-34e81decb13b",
   "metadata": {},
   "outputs": [],
   "source": [
    "#%load_ext lab_black"
   ]
  },
  {
   "cell_type": "code",
   "execution_count": 2,
   "id": "d1433ad7-0cc8-46ba-8be5-40b7e73ea27a",
   "metadata": {},
   "outputs": [],
   "source": [
    "import numpy as np\n",
    "import pandas as pd\n",
    "#import matplotlib.pyplot as plt\n",
    "import composition_stats as comp\n",
    "from grainalyzer import grainalyzer"
   ]
  },
  {
   "cell_type": "code",
   "execution_count": 3,
   "id": "4d341cdb-3549-4c14-a892-cb68e9cb53f4",
   "metadata": {},
   "outputs": [],
   "source": [
    "pd.set_option(\"display.max_rows\", 15)  # none to view all rows"
   ]
  },
  {
   "cell_type": "markdown",
   "id": "c1e95e39-f27d-4d67-a311-4049c8709092",
   "metadata": {},
   "source": [
    "### Data Wrangling"
   ]
  },
  {
   "cell_type": "code",
   "execution_count": null,
   "id": "f44cbd80-65da-4586-ad5b-ad6a7d7ce9d4",
   "metadata": {},
   "outputs": [],
   "source": [
    "filepath = \"Data/Test_GS-020.csv\"\n",
    "grainalyzer.extract_depth(filepath)"
   ]
  },
  {
   "cell_type": "code",
   "execution_count": 4,
   "id": "c8ad522a-9774-408c-9697-fab864dc6f21",
   "metadata": {},
   "outputs": [],
   "source": [
    "filepath = \"Data/Test*.csv\"\n",
    "grainsizes = grainalyzer.read_gs_to_df(filepath)\n",
    "\n",
    "grainsizes_prep = grainalyzer.cut_off_zeros(grainsizes)"
   ]
  },
  {
   "cell_type": "markdown",
   "id": "e10c8185-2216-4169-ba5a-b95ad1b24a4c",
   "metadata": {},
   "source": [
    "### Convert Grainsize to Krumbein Phi Scale\n",
    "\n",
    "$$\\phi = -\\log_2 D/D_0\\text{,} $$\n",
    "\n",
    "> relevant for later classification"
   ]
  },
  {
   "cell_type": "code",
   "execution_count": 5,
   "id": "804f7881-ce1e-486a-9976-24e940927626",
   "metadata": {},
   "outputs": [],
   "source": [
    "grainsizes_prep[\"gs_phi\"] = grainalyzer.diameter_2_krumbein_phi(\n",
    "    channelwidth=grainsizes_prep[\"Kanaldurchmesser_unten_um\"], unit=\"um\"\n",
    ")"
   ]
  },
  {
   "cell_type": "code",
   "execution_count": 5,
   "id": "9c2eefc3-bc4e-43ad-9d6d-609aa57ac3cc",
   "metadata": {},
   "outputs": [
    {
     "data": {
      "text/plain": [
       "14.475090939972358"
      ]
     },
     "execution_count": 5,
     "metadata": {},
     "output_type": "execute_result"
    }
   ],
   "source": [
    "-np.log2(0.043910/1000)"
   ]
  },
  {
   "cell_type": "markdown",
   "id": "c604d1ce-f99c-4871-8724-87d28f4aca4c",
   "metadata": {},
   "source": [
    "***\n",
    "\n",
    "### clr on Vol_% column\n",
    "\n",
    "> hier wird die clr mithilfe von composition.stats berechnet (alle aliquoten messungen\n",
    "\n",
    "> Zeros sind an den rändern abgeschnitten, sodasss nur noch die nullstellen innerhalb probleme machen\n",
    "\n",
    "> diese werden mit `multiplicative_replacement` ersetzt\n",
    "\n",
    "> closure: summe alle werte = 1\n",
    "\n"
   ]
  },
  {
   "cell_type": "code",
   "execution_count": 6,
   "id": "0d899029-5788-4dc5-98b3-b8d47fd39896",
   "metadata": {},
   "outputs": [],
   "source": [
    "grainsizes_clr = grainalyzer.gs_simplex_2_rplus(dataframe=grainsizes_prep, depth_colum=\"depth\")"
   ]
  },
  {
   "cell_type": "markdown",
   "id": "339fc34a-5b46-41ee-bb3b-98eb8f9dc1f1",
   "metadata": {},
   "source": [
    "### Summarize the subsamples into one mean curve!"
   ]
  },
  {
   "cell_type": "code",
   "execution_count": 7,
   "id": "30f54d23-b1a0-479d-b0fb-4ec612b61b8a",
   "metadata": {},
   "outputs": [
    {
     "data": {
      "text/html": [
       "<div>\n",
       "<style scoped>\n",
       "    .dataframe tbody tr th:only-of-type {\n",
       "        vertical-align: middle;\n",
       "    }\n",
       "\n",
       "    .dataframe tbody tr th {\n",
       "        vertical-align: top;\n",
       "    }\n",
       "\n",
       "    .dataframe thead th {\n",
       "        text-align: right;\n",
       "    }\n",
       "</style>\n",
       "<table border=\"1\" class=\"dataframe\">\n",
       "  <thead>\n",
       "    <tr style=\"text-align: right;\">\n",
       "      <th></th>\n",
       "      <th>depth</th>\n",
       "      <th>Kanaldurchmesser_unten_um</th>\n",
       "      <th>Vol_%</th>\n",
       "      <th>gs_phi</th>\n",
       "      <th>Vol_clr_mean</th>\n",
       "      <th>Vol_clr_median</th>\n",
       "      <th>Vol_clr_std</th>\n",
       "    </tr>\n",
       "  </thead>\n",
       "  <tbody>\n",
       "    <tr>\n",
       "      <th>0</th>\n",
       "      <td>20.0</td>\n",
       "      <td>0.043910</td>\n",
       "      <td>0.000247</td>\n",
       "      <td>14.475075</td>\n",
       "      <td>-7.354081</td>\n",
       "      <td>-7.354081</td>\n",
       "      <td>1.854440</td>\n",
       "    </tr>\n",
       "    <tr>\n",
       "      <th>1</th>\n",
       "      <td>20.0</td>\n",
       "      <td>0.048203</td>\n",
       "      <td>0.000419</td>\n",
       "      <td>14.340509</td>\n",
       "      <td>-6.332642</td>\n",
       "      <td>-6.332642</td>\n",
       "      <td>1.156099</td>\n",
       "    </tr>\n",
       "    <tr>\n",
       "      <th>2</th>\n",
       "      <td>20.0</td>\n",
       "      <td>0.052916</td>\n",
       "      <td>0.000844</td>\n",
       "      <td>14.205942</td>\n",
       "      <td>-5.465563</td>\n",
       "      <td>-5.465563</td>\n",
       "      <td>0.918792</td>\n",
       "    </tr>\n",
       "    <tr>\n",
       "      <th>3</th>\n",
       "      <td>20.0</td>\n",
       "      <td>0.058089</td>\n",
       "      <td>0.001747</td>\n",
       "      <td>14.071378</td>\n",
       "      <td>-4.771369</td>\n",
       "      <td>-4.771369</td>\n",
       "      <td>0.966281</td>\n",
       "    </tr>\n",
       "    <tr>\n",
       "      <th>4</th>\n",
       "      <td>20.0</td>\n",
       "      <td>0.063768</td>\n",
       "      <td>0.003379</td>\n",
       "      <td>13.936810</td>\n",
       "      <td>-4.144644</td>\n",
       "      <td>-4.144644</td>\n",
       "      <td>1.012821</td>\n",
       "    </tr>\n",
       "    <tr>\n",
       "      <th>...</th>\n",
       "      <td>...</td>\n",
       "      <td>...</td>\n",
       "      <td>...</td>\n",
       "      <td>...</td>\n",
       "      <td>...</td>\n",
       "      <td>...</td>\n",
       "      <td>...</td>\n",
       "    </tr>\n",
       "    <tr>\n",
       "      <th>955</th>\n",
       "      <td>112.0</td>\n",
       "      <td>213.221000</td>\n",
       "      <td>0.019420</td>\n",
       "      <td>2.229579</td>\n",
       "      <td>-4.874464</td>\n",
       "      <td>-4.874464</td>\n",
       "      <td>3.438009</td>\n",
       "    </tr>\n",
       "    <tr>\n",
       "      <th>956</th>\n",
       "      <td>112.0</td>\n",
       "      <td>234.066000</td>\n",
       "      <td>0.000000</td>\n",
       "      <td>2.095013</td>\n",
       "      <td>-7.625638</td>\n",
       "      <td>-7.625638</td>\n",
       "      <td>0.005902</td>\n",
       "    </tr>\n",
       "    <tr>\n",
       "      <th>957</th>\n",
       "      <td>112.0</td>\n",
       "      <td>256.948000</td>\n",
       "      <td>0.000000</td>\n",
       "      <td>1.960452</td>\n",
       "      <td>-7.625638</td>\n",
       "      <td>-7.625638</td>\n",
       "      <td>0.005902</td>\n",
       "    </tr>\n",
       "    <tr>\n",
       "      <th>958</th>\n",
       "      <td>112.0</td>\n",
       "      <td>282.068000</td>\n",
       "      <td>0.000000</td>\n",
       "      <td>1.825885</td>\n",
       "      <td>-7.625638</td>\n",
       "      <td>-7.625638</td>\n",
       "      <td>0.005902</td>\n",
       "    </tr>\n",
       "    <tr>\n",
       "      <th>959</th>\n",
       "      <td>112.0</td>\n",
       "      <td>309.644000</td>\n",
       "      <td>0.000000</td>\n",
       "      <td>1.691318</td>\n",
       "      <td>-7.625638</td>\n",
       "      <td>-7.625638</td>\n",
       "      <td>0.005902</td>\n",
       "    </tr>\n",
       "  </tbody>\n",
       "</table>\n",
       "<p>960 rows × 7 columns</p>\n",
       "</div>"
      ],
      "text/plain": [
       "     depth  Kanaldurchmesser_unten_um     Vol_%     gs_phi  Vol_clr_mean  \\\n",
       "0     20.0                   0.043910  0.000247  14.475075     -7.354081   \n",
       "1     20.0                   0.048203  0.000419  14.340509     -6.332642   \n",
       "2     20.0                   0.052916  0.000844  14.205942     -5.465563   \n",
       "3     20.0                   0.058089  0.001747  14.071378     -4.771369   \n",
       "4     20.0                   0.063768  0.003379  13.936810     -4.144644   \n",
       "..     ...                        ...       ...        ...           ...   \n",
       "955  112.0                 213.221000  0.019420   2.229579     -4.874464   \n",
       "956  112.0                 234.066000  0.000000   2.095013     -7.625638   \n",
       "957  112.0                 256.948000  0.000000   1.960452     -7.625638   \n",
       "958  112.0                 282.068000  0.000000   1.825885     -7.625638   \n",
       "959  112.0                 309.644000  0.000000   1.691318     -7.625638   \n",
       "\n",
       "     Vol_clr_median  Vol_clr_std  \n",
       "0         -7.354081     1.854440  \n",
       "1         -6.332642     1.156099  \n",
       "2         -5.465563     0.918792  \n",
       "3         -4.771369     0.966281  \n",
       "4         -4.144644     1.012821  \n",
       "..              ...          ...  \n",
       "955       -4.874464     3.438009  \n",
       "956       -7.625638     0.005902  \n",
       "957       -7.625638     0.005902  \n",
       "958       -7.625638     0.005902  \n",
       "959       -7.625638     0.005902  \n",
       "\n",
       "[960 rows x 7 columns]"
      ]
     },
     "execution_count": 7,
     "metadata": {},
     "output_type": "execute_result"
    }
   ],
   "source": [
    "grainsizes_summarize = grainalyzer.mean_curves_clr(dataframe=grainsizes_clr, depth_colum=\"depth\")\n",
    "grainsizes_summarize"
   ]
  },
  {
   "cell_type": "markdown",
   "id": "91d7f0fa-bb91-4b46-8269-6601d3bd8385",
   "metadata": {},
   "source": [
    "### Save to csv"
   ]
  },
  {
   "cell_type": "code",
   "execution_count": null,
   "id": "5e1c901a-e997-47e4-85eb-0dc6d89279e3",
   "metadata": {},
   "outputs": [],
   "source": [
    "filepath = \"Data/grainsizes_summarize.csv\"\n",
    "grainsizes_summarize.to_csv(filepath, index=False)"
   ]
  },
  {
   "cell_type": "markdown",
   "id": "b61165b6-d709-458c-a96a-1a209510e917",
   "metadata": {},
   "source": [
    "**********\n",
    "## Plotting\n",
    "\n",
    "> plotting all avg. curves in one plot (viridis)\n"
   ]
  },
  {
   "cell_type": "code",
   "execution_count": null,
   "id": "0491d33a-15a0-474c-bc23-e6dfd64ad4c6",
   "metadata": {},
   "outputs": [],
   "source": [
    "from matplotlib.pyplot import cm"
   ]
  },
  {
   "cell_type": "code",
   "execution_count": null,
   "id": "cc5b28db-1ec9-4682-85cd-a7ab79f6d0d6",
   "metadata": {},
   "outputs": [],
   "source": [
    "n = len(pd.unique(grainsizes_summarize[\"depth\"]))  ## number of curves here\n",
    "color = cm.viridis(np.linspace(0, 1, n))\n",
    "fig, ax = plt.subplots(1, 1, figsize=(15, 10))\n",
    "\n",
    "for depth, c in zip(\n",
    "    pd.unique(grainsizes_summarize[\"depth\"]), color\n",
    "):  # iterate over all depths and colors --> same lengths!\n",
    "    plot_curve = grainsizes_summarize.loc[(grainsizes_summarize[\"depth\"] == depth)]\n",
    "    # depth = plot_curve[\"depth\"].iloc[0]\n",
    "    plt.plot(\n",
    "        plot_curve[\"gs_phi\"],\n",
    "        comp.clr_inv(plot_curve[\"Vol_clr_mean\"]) * 100,\n",
    "        label=f\"{depth}cm\",\n",
    "        color=c,\n",
    "    )  # interim_ali[\"Vol_perc_clr\"]\n",
    "    # Add confidence bands\n",
    "    plt.fill_between(\n",
    "        plot_curve[\"gs_phi\"],\n",
    "        comp.clr_inv((plot_curve[\"Vol_clr_mean\"] - plot_curve[\"Vol_clr_std\"])) * 100,\n",
    "        comp.clr_inv((plot_curve[\"Vol_clr_mean\"] + plot_curve[\"Vol_clr_std\"])) * 100,\n",
    "        color=c,\n",
    "        alpha=0.1,\n",
    "    )\n",
    "    plt.legend(loc=\"lower center\", ncol=2, bbox_to_anchor=(1, 0.2))\n",
    "\n",
    "plt.title(\"mean grain size and confidence bands\")\n",
    "plt.xlabel(\"Grainsizes $\\phi$\")\n",
    "plt.ylabel(\"Volume [%]\")\n",
    "plt.xlim(0, 16)\n",
    "plt.show()"
   ]
  }
 ],
 "metadata": {
  "kernelspec": {
   "display_name": "Python 3 (ipykernel)",
   "language": "python",
   "name": "python3"
  },
  "language_info": {
   "codemirror_mode": {
    "name": "ipython",
    "version": 3
   },
   "file_extension": ".py",
   "mimetype": "text/x-python",
   "name": "python",
   "nbconvert_exporter": "python",
   "pygments_lexer": "ipython3",
   "version": "3.10.12"
  }
 },
 "nbformat": 4,
 "nbformat_minor": 5
}
