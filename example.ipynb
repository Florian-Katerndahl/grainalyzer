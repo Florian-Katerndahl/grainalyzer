{
 "cells": [
  {
   "cell_type": "markdown",
   "id": "628442e2-e9e7-4b4d-9aea-cdc06cc3ecf1",
   "metadata": {
    "tags": []
   },
   "source": [
    "# grainanalyser\n",
    "> workflow to read grain-size distributions from the lab, with treating grain sizes as compositional data and therefore processing them using the Aitchison's log-ratio approach"
   ]
  },
  {
   "cell_type": "markdown",
   "id": "81417ca1-0a1c-4bfb-a8b1-25ae567e18a7",
   "metadata": {},
   "source": [
    "## Prerequisites\n",
    "\n",
    "* only works for one directory at a time\n",
    "* only works for csv files\n",
    "* only works for files in laserscannerformat"
   ]
  },
  {
   "cell_type": "code",
   "execution_count": null,
   "id": "c119e024-3715-476c-9c64-34e81decb13b",
   "metadata": {},
   "outputs": [],
   "source": [
    "%load_ext lab_black"
   ]
  },
  {
   "cell_type": "code",
   "execution_count": null,
   "id": "d1433ad7-0cc8-46ba-8be5-40b7e73ea27a",
   "metadata": {},
   "outputs": [],
   "source": [
    "import numpy as np\n",
    "import pandas as pd\n",
    "import matplotlib.pyplot as plt\n",
    "import composition_stats as comp\n",
    "from grainalyzer import grainalyzer"
   ]
  },
  {
   "cell_type": "code",
   "execution_count": null,
   "id": "4d341cdb-3549-4c14-a892-cb68e9cb53f4",
   "metadata": {},
   "outputs": [],
   "source": [
    "pd.set_option(\"display.max_rows\", 15)  # none to view all rows"
   ]
  },
  {
   "cell_type": "markdown",
   "id": "c1e95e39-f27d-4d67-a311-4049c8709092",
   "metadata": {},
   "source": [
    "### Data Wrangling"
   ]
  },
  {
   "cell_type": "code",
   "execution_count": null,
   "id": "f44cbd80-65da-4586-ad5b-ad6a7d7ce9d4",
   "metadata": {},
   "outputs": [],
   "source": [
    "filepath = \"Data/Test_GS-020.csv\"\n",
    "grainalyzer.extract_depth(filepath)"
   ]
  },
  {
   "cell_type": "code",
   "execution_count": null,
   "id": "c8ad522a-9774-408c-9697-fab864dc6f21",
   "metadata": {},
   "outputs": [],
   "source": [
    "filepath = \"Data/Test*.csv\"\n",
    "grainsizes = grainalyzer.read_gs_to_df(filepath)\n",
    "\n",
    "grainsizes_prep = grainalyzer.cut_off_zeros(grainsizes)"
   ]
  },
  {
   "cell_type": "markdown",
   "id": "e10c8185-2216-4169-ba5a-b95ad1b24a4c",
   "metadata": {},
   "source": [
    "### Convert Grainsize to Krumbein Phi Scale\n",
    "\n",
    "$$\\phi = -\\log_2 D/D_0\\text{,} $$\n",
    "\n",
    "> relevant for later classification"
   ]
  },
  {
   "cell_type": "code",
   "execution_count": null,
   "id": "804f7881-ce1e-486a-9976-24e940927626",
   "metadata": {},
   "outputs": [],
   "source": [
    "grainsizes_prep[\"gs_phi\"] = grainalyzer.diameter_2_krumbein_phi(\n",
    "    channelwidth=grainsizes_prep[\"Kanaldurchmesser_unten_um\"], unit=\"um\"\n",
    ")"
   ]
  },
  {
   "cell_type": "markdown",
   "id": "c604d1ce-f99c-4871-8724-87d28f4aca4c",
   "metadata": {},
   "source": [
    "***\n",
    "\n",
    "### clr on Vol_% column\n",
    "\n",
    "> hier wird die clr mithilfe von composition.stats berechnet (alle aliquoten messungen\n",
    "\n",
    "> Zeros sind an den rändern abgeschnitten, sodasss nur noch die nullstellen innerhalb probleme machen\n",
    "\n",
    "> diese werden mit `multiplicative_replacement` ersetzt\n",
    "\n",
    "> closure: summe alle werte = 1\n",
    "\n"
   ]
  },
  {
   "cell_type": "code",
   "execution_count": null,
   "id": "0d899029-5788-4dc5-98b3-b8d47fd39896",
   "metadata": {},
   "outputs": [],
   "source": [
    "grainsizes_clr = grainalyzer.gs_simplex_2_rplus(dataframe=grainsizes_prep, depth_colum=\"depth\")"
   ]
  },
  {
   "cell_type": "markdown",
   "id": "339fc34a-5b46-41ee-bb3b-98eb8f9dc1f1",
   "metadata": {},
   "source": [
    "### Summarize the subsamples into one mean curve!"
   ]
  },
  {
   "cell_type": "code",
   "execution_count": null,
   "id": "30f54d23-b1a0-479d-b0fb-4ec612b61b8a",
   "metadata": {},
   "outputs": [],
   "source": [
    "grainsizes_summarize = grainalyzer.mean_curves_clr(dataframe=grainsizes_clr, depth_colum=\"depth\")\n",
    "grainsizes_summarize"
   ]
  },
  {
   "cell_type": "markdown",
   "id": "91d7f0fa-bb91-4b46-8269-6601d3bd8385",
   "metadata": {},
   "source": [
    "### Save to csv"
   ]
  },
  {
   "cell_type": "code",
   "execution_count": null,
   "id": "5e1c901a-e997-47e4-85eb-0dc6d89279e3",
   "metadata": {},
   "outputs": [],
   "source": [
    "filepath = \"Data/grainsizes_summarize.csv\"\n",
    "grainsizes_summarize.to_csv(filepath, index=False)"
   ]
  },
  {
   "cell_type": "markdown",
   "id": "b61165b6-d709-458c-a96a-1a209510e917",
   "metadata": {},
   "source": [
    "**********\n",
    "## Plotting\n",
    "\n",
    "> plotting all avg. curves in one plot (viridis)\n"
   ]
  },
  {
   "cell_type": "code",
   "execution_count": null,
   "id": "0491d33a-15a0-474c-bc23-e6dfd64ad4c6",
   "metadata": {},
   "outputs": [],
   "source": [
    "from matplotlib.pyplot import cm"
   ]
  },
  {
   "cell_type": "code",
   "execution_count": null,
   "id": "cc5b28db-1ec9-4682-85cd-a7ab79f6d0d6",
   "metadata": {},
   "outputs": [],
   "source": [
    "n = len(pd.unique(grainsizes_summarize[\"depth\"]))  ## number of curves here\n",
    "color = cm.viridis(np.linspace(0, 1, n))\n",
    "fig, ax = plt.subplots(1, 1, figsize=(15, 10))\n",
    "\n",
    "for depth, c in zip(\n",
    "    pd.unique(grainsizes_summarize[\"depth\"]), color\n",
    "):  # iterate over all depths and colors --> same lengths!\n",
    "    plot_curve = grainsizes_summarize.loc[(grainsizes_summarize[\"depth\"] == depth)]\n",
    "    # depth = plot_curve[\"depth\"].iloc[0]\n",
    "    plt.plot(\n",
    "        plot_curve[\"gs_phi\"],\n",
    "        comp.clr_inv(plot_curve[\"Vol_clr_mean\"]) * 100,\n",
    "        label=f\"{depth}cm\",\n",
    "        color=c,\n",
    "    )  # interim_ali[\"Vol_perc_clr\"]\n",
    "    # Add confidence bands\n",
    "    plt.fill_between(\n",
    "        plot_curve[\"gs_phi\"],\n",
    "        comp.clr_inv((plot_curve[\"Vol_clr_mean\"] - plot_curve[\"Vol_clr_std\"])) * 100,\n",
    "        comp.clr_inv((plot_curve[\"Vol_clr_mean\"] + plot_curve[\"Vol_clr_std\"])) * 100,\n",
    "        color=c,\n",
    "        alpha=0.1,\n",
    "    )\n",
    "    plt.legend(loc=\"lower center\", ncol=2, bbox_to_anchor=(1, 0.2))\n",
    "\n",
    "plt.title(\"mean grain size and confidence bands\")\n",
    "plt.xlabel(\"Grainsizes $\\phi$\")\n",
    "plt.ylabel(\"Volume [%]\")\n",
    "plt.xlim(0, 16)\n",
    "plt.show()"
   ]
  }
 ],
 "metadata": {
  "kernelspec": {
   "display_name": "Python 3 (ipykernel)",
   "language": "python",
   "name": "python3"
  },
  "language_info": {
   "codemirror_mode": {
    "name": "ipython",
    "version": 3
   },
   "file_extension": ".py",
   "mimetype": "text/x-python",
   "name": "python",
   "nbconvert_exporter": "python",
   "pygments_lexer": "ipython3",
   "version": "3.10.12"
  }
 },
 "nbformat": 4,
 "nbformat_minor": 5
}
